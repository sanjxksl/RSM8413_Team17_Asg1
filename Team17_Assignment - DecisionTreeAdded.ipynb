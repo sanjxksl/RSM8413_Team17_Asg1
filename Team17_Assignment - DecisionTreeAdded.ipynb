{
 "cells": [
  {
   "cell_type": "code",
   "execution_count": null,
   "id": "58ab9db0",
   "metadata": {},
   "outputs": [],
   "source": [
    "import pandas as pd\n",
    "import numpy as np\n",
    "import matplotlib.pyplot as plt\n",
    "import seaborn as sns\n",
    "import warnings\n",
    "warnings.filterwarnings(\"ignore\")"
   ]
  },
  {
   "cell_type": "code",
   "execution_count": null,
   "id": "f5c61677",
   "metadata": {},
   "outputs": [],
   "source": [
    "# Data preprocessing and EDA\n",
    "file_path = \"ebayAuctions.xlsx\"\n",
    "df = pd.read_excel(file_path, sheet_name='eBay auctions', header=0)\n",
    "df.info()"
   ]
  },
  {
   "cell_type": "code",
   "execution_count": null,
   "id": "4e4d0d94",
   "metadata": {},
   "outputs": [],
   "source": [
    "df.columns = [col.strip() for col in df.columns]\n",
    "df.columns = [col.replace(\"?\",\"\") for col in df.columns]\n",
    "df.rename(columns={\"sellerRating\": \"SellerRating\", \"endDay\": \"EndDay\"}, inplace=True)\n",
    "df.head()"
   ]
  },
  {
   "cell_type": "code",
   "execution_count": null,
   "id": "1bbd7816",
   "metadata": {},
   "outputs": [],
   "source": [
    "df.info()\n",
    "df.describe()"
   ]
  },
  {
   "cell_type": "code",
   "execution_count": null,
   "id": "cddda3aa",
   "metadata": {},
   "outputs": [],
   "source": [
    "df['Competitive'] = df['Competitive'].astype(bool)"
   ]
  },
  {
   "cell_type": "code",
   "execution_count": null,
   "id": "4363bdc9",
   "metadata": {},
   "outputs": [],
   "source": [
    "numeric = df.select_dtypes(include=[np.number]).columns.tolist()\n",
    "categorical = df.select_dtypes(include=['object','category']).columns.tolist()\n",
    "\n",
    "numeric, categorical"
   ]
  },
  {
   "cell_type": "code",
   "execution_count": null,
   "id": "bb49a3aa",
   "metadata": {},
   "outputs": [],
   "source": [
    "def mark_outliers(s, lower=0.01, upper=0.99):\n",
    "    lo, hi = s.quantile([lower, upper])\n",
    "    return (s < lo) | (s > hi)\n",
    "\n",
    "# Only continuous features\n",
    "cont_cols = ['OpenPrice', 'ClosePrice', 'SellerRating']\n",
    "\n",
    "for c in cont_cols:\n",
    "    df[f\"{c}_outlier\"] = mark_outliers(df[c])"
   ]
  },
  {
   "cell_type": "code",
   "execution_count": null,
   "id": "8efefa90",
   "metadata": {},
   "outputs": [],
   "source": [
    "dummies = pd.get_dummies(df[categorical], drop_first=False)\n",
    "data = pd.concat([df[numeric + ['Competitive']], dummies], axis=1)\n",
    "data.describe()\n",
    "data.info()"
   ]
  },
  {
   "cell_type": "code",
   "execution_count": null,
   "id": "25177c36",
   "metadata": {},
   "outputs": [],
   "source": [
    "fig1 = plt.figure(figsize=(6,4))\n",
    "ax1 = fig1.add_subplot(1,1,1)\n",
    "counts = df['Competitive'].value_counts(normalize=True).plot(kind='bar', color=['skyblue','salmon'])\n",
    "plt.title(\"Competitive vs Non-Competitive Auctions\")\n",
    "plt.ylabel(\"Proportion\")\n",
    "plt.show()"
   ]
  },
  {
   "cell_type": "code",
   "execution_count": null,
   "id": "ec51f9bf",
   "metadata": {},
   "outputs": [],
   "source": [
    "fig2 = plt.figure(figsize=(6,4))\n",
    "ax2 = fig2.add_subplot(1,1,1)\n",
    "lp0 = (df.loc[df['Competitive']==0,'ClosePrice'].dropna())\n",
    "lp1 = (df.loc[df['Competitive']==1,'ClosePrice'].dropna())\n",
    "ax2.boxplot([lp0, lp1], labels=['Non-comp','Comp'])\n",
    "ax2.set_title('ClosePrice by Competitiveness')\n",
    "plt.tight_layout()\n",
    "plt.show()"
   ]
  },
  {
   "cell_type": "code",
   "execution_count": null,
   "id": "e1654353",
   "metadata": {},
   "outputs": [],
   "source": [
    "fig2 = plt.figure(figsize=(6,4))\n",
    "ax2 = fig2.add_subplot(1,1,1)\n",
    "lp0 = np.log1p(df.loc[df['Competitive']==0,'ClosePrice'].dropna())\n",
    "lp1 = np.log1p(df.loc[df['Competitive']==1,'ClosePrice'].dropna())\n",
    "ax2.boxplot([lp0, lp1], labels=['Non-comp','Comp'])\n",
    "ax2.set_title('Log(1+ClosePrice) by Competitiveness')\n",
    "plt.tight_layout()\n",
    "plt.show()"
   ]
  },
  {
   "cell_type": "code",
   "execution_count": null,
   "id": "1605894c",
   "metadata": {},
   "outputs": [],
   "source": [
    "for col in numeric:\n",
    "    plt.figure(figsize=(6,4))\n",
    "    sns.boxplot(x='Competitive', y=col, data=df)\n",
    "    plt.title(f\"{col} by Competitiveness\")\n",
    "    plt.show()"
   ]
  },
  {
   "cell_type": "code",
   "execution_count": null,
   "id": "19eb173c",
   "metadata": {},
   "outputs": [],
   "source": [
    "log_cols = ['OpenPrice', 'ClosePrice', 'SellerRating']\n",
    "\n",
    "# Log-scale plots\n",
    "for col in log_cols:\n",
    "    plt.figure(figsize=(6,4))\n",
    "    sns.boxplot(x='Competitive', y=np.log1p(df[col]), data=df)\n",
    "    plt.title(f\"Log(1+{col}) by Competitiveness\")\n",
    "    plt.show()"
   ]
  },
  {
   "cell_type": "code",
   "execution_count": null,
   "id": "b9c5d436",
   "metadata": {},
   "outputs": [],
   "source": [
    "plt.figure(figsize=(6,4))\n",
    "sns.heatmap(df[numeric + ['Competitive']].corr(), annot=True, cmap='coolwarm', fmt=\".2f\")\n",
    "plt.title(\"Correlation Heatmap\")\n",
    "plt.show()"
   ]
  },
  {
   "cell_type": "code",
   "execution_count": null,
   "id": "3fd03fcd",
   "metadata": {},
   "outputs": [],
   "source": [
    "for col in categorical:\n",
    "    comp_rates = df.groupby(col)['Competitive'].mean().sort_values(ascending=False) * 100\n",
    "    plt.figure(figsize=(8,4))\n",
    "    sns.barplot(x=comp_rates.index, y=comp_rates.values, palette=\"viridis\")\n",
    "    plt.title(f\"% Competitive by {col}\")\n",
    "    plt.ylabel(\"% Competitive Auctions\")\n",
    "    plt.xticks(rotation=45, ha=\"right\")\n",
    "    plt.show()"
   ]
  },
  {
   "cell_type": "code",
   "execution_count": null,
   "id": "92c88adc",
   "metadata": {},
   "outputs": [],
   "source": [
    "topcats = df['Category'].value_counts().nlargest(10).index.tolist() # top 10 categories by frequency\n",
    "# filter only those 10 categories\n",
    "# average of \"competitive\" (True=1), % competitive\n",
    "# reorder to match frequency ranking\n",
    "perc_comp = (df[df['Category'].isin(topcats)].groupby(df['Category'])['Competitive'].mean() * 100).reindex(topcats)                      \n",
    "fig3 = plt.figure(figsize=(10,4))\n",
    "ax3 = fig3.add_subplot(1,1,1)\n",
    "ax3.bar(range(len(topcats)), perc_comp)\n",
    "ax3.set_xticks(range(len(topcats)))\n",
    "ax3.set_xticklabels(topcats, rotation=45, ha='right')\n",
    "ax3.set_ylabel('% Competitive auctions')\n",
    "ax3.set_title(f\"% Competitive by Category (top {len(topcats)})\")\n",
    "plt.tight_layout()\n",
    "plt.show()"
   ]
  },
  {
   "cell_type": "code",
   "execution_count": null,
   "id": "53be0da3",
   "metadata": {},
   "outputs": [],
   "source": [
    "# Sometimes it’s not the absolute prices but the markup that drives competitiveness.\n",
    "# If price_ratio ≈ 1, auction closed near opening price, not many bids.\n",
    "# If price_ratio >> 1, price grew a lot, competitive bidding.\n",
    "# Log-transform price ratio\n",
    "df['PriceRatio'] = (df['ClosePrice'] + 1) / (df['OpenPrice'] + 1)\n",
    "df['PriceRatio_log'] = np.log1p(df['PriceRatio'])\n",
    "sns.boxplot(x='Competitive', y='PriceRatio_log', data=df)\n",
    "plt.title(\"Log(1 + Price Ratio) by Competitiveness\")\n",
    "plt.show()\n"
   ]
  },
  {
   "cell_type": "code",
   "execution_count": null,
   "id": "c5698699",
   "metadata": {},
   "outputs": [],
   "source": [
    "# Seller ratings are highly skewed; cut them into bins (newbie, mid, pro, power seller).\n",
    "# Competitive auctions might be concentrated in trusted sellers.\n",
    "df['SellerTier'] = pd.qcut(df['SellerRating'], q=4, labels=[\"Low\",\"Mid\",\"High\",\"Top\"])\n",
    "sns.barplot(x='SellerTier', y='Competitive', data=df, estimator=np.mean)\n",
    "plt.title(\"Competitiveness by Seller Tier\")\n",
    "plt.show()"
   ]
  },
  {
   "cell_type": "code",
   "execution_count": null,
   "id": "199c4543",
   "metadata": {},
   "outputs": [],
   "source": [
    "# Auctions of 3, 5, 7, 10 days may show very different competitiveness rates.\n",
    "# A short 3-day auction might get fewer bids, but 7-day might build hype.\n",
    "sns.barplot(x='Duration', y='Competitive', data=df, estimator=np.mean)\n",
    "plt.title(\"Competitiveness by Auction Duration\")\n",
    "plt.show()"
   ]
  },
  {
   "cell_type": "code",
   "execution_count": null,
   "id": "0eb520fe",
   "metadata": {},
   "outputs": [],
   "source": [
    "# Maybe high-rated sellers dominate competitive categories (e.g. Electronics, Jewelry).\n",
    "# Heatmap can reveal that interaction.\n",
    "pivot = df.pivot_table(index=\"Category\", columns=\"SellerTier\", values=\"Competitive\", aggfunc=\"mean\")\n",
    "plt.figure(figsize=(10,6))\n",
    "sns.heatmap(pivot, annot=True, fmt=\".1%\", cmap=\"YlGnBu\")\n",
    "plt.title(\"Competitiveness by Category & Seller Tier\")\n",
    "plt.show()"
   ]
  },
  {
   "cell_type": "code",
   "execution_count": null,
   "id": "4350c9ef",
   "metadata": {},
   "outputs": [],
   "source": [
    "# Decision Trees\n",
    "import graphviz\n",
    "from sklearn import tree\n",
    "from sklearn.tree import DecisionTreeClassifier, export_graphviz\n",
    "from sklearn.model_selection import train_test_split, cross_val_score, GridSearchCV\n",
    "from sklearn.metrics import accuracy_score\n",
    "!pip install dmba\n",
    "from dmba import classificationSummary"
   ]
  },
  {
   "cell_type": "code",
   "execution_count": null,
   "id": "44917411",
   "metadata": {},
   "outputs": [],
   "source": [
    "data.info()"
   ]
  },
  {
   "cell_type": "code",
   "execution_count": null,
   "id": "ccd18ca5",
   "metadata": {},
   "outputs": [],
   "source": [
    "bool_cols = data.select_dtypes(include='bool').columns\n",
    "data[bool_cols] = data[bool_cols].astype(int)"
   ]
  },
  {
   "cell_type": "code",
   "execution_count": null,
   "id": "498140d7",
   "metadata": {},
   "outputs": [],
   "source": [
    "X = data.drop(columns=[\"Competitive\"])\n",
    "y = data[\"Competitive\"]\n",
    "X_train, X_test, y_train, y_test = train_test_split(X,y,test_size=0.4,random_state=1)\n",
    "fullClassTree = DecisionTreeClassifier(random_state=1, min_samples_leaf=50) \n",
    "fullClassTree.fit(X_train, y_train)\n",
    "y_predicted = fullClassTree.predict(X_test)\n",
    "accuracy_score(y_test, y_predicted)"
   ]
  },
  {
   "cell_type": "code",
   "execution_count": null,
   "id": "04545edb",
   "metadata": {},
   "outputs": [],
   "source": [
    "classificationSummary(y_train, fullClassTree.predict(X_train))\n",
    "classificationSummary(y_test, fullClassTree.predict(X_test))"
   ]
  },
  {
   "cell_type": "code",
   "execution_count": null,
   "id": "b4c1c70e",
   "metadata": {},
   "outputs": [],
   "source": [
    "feature_names = list(X.columns)\n",
    "list_int = list(y.unique())\n",
    "class_names = list(map(str, list_int))\n",
    "text_representation = tree.export_text(fullClassTree, feature_names = feature_names)\n",
    "print(text_representation)"
   ]
  },
  {
   "cell_type": "code",
   "execution_count": null,
   "id": "3d6d9f7f",
   "metadata": {},
   "outputs": [],
   "source": [
    "fig = plt.figure(figsize=(25,20))\n",
    "tree.plot_tree(fullClassTree, feature_names=feature_names, class_names=class_names,\n",
    "              rounded=True, filled=True)\n",
    "%matplotlib inline\n",
    "plt.show()"
   ]
  },
  {
   "cell_type": "code",
   "execution_count": null,
   "id": "cb1bbb0b",
   "metadata": {},
   "outputs": [],
   "source": [
    "feature_importances = pd.Series(fullClassTree.feature_importances_, index=X_train.columns)\n",
    "feature_importances.sort_values(ascending=False)"
   ]
  },
  {
   "cell_type": "code",
   "execution_count": null,
   "id": "81a68609",
   "metadata": {},
   "outputs": [],
   "source": [
    "# For new auctions\n",
    "# For better visualization, log-transform SellerRating and OpenPrice\n",
    "data_clean = data\n",
    "for c in [\"OpenPrice\",\"SellerRating\"]:\n",
    "    data_clean[f\"{c}_log\"] = np.log(data_clean[c]+1)\n",
    "\n",
    "X = data_clean[[\"OpenPrice_log\", \"SellerRating_log\"]]\n",
    "y = data_clean[\"Competitive\"]\n",
    "X_train, X_test, y_train, y_test = train_test_split(X,y,test_size=0.4,random_state=1)\n",
    "newClassTree = DecisionTreeClassifier(random_state=1, min_samples_leaf=50) \n",
    "newClassTree.fit(X_train, y_train)\n",
    "y_predicted = newClassTree.predict(X_test)\n",
    "accuracy_score(y_test, y_predicted)"
   ]
  },
  {
   "cell_type": "code",
   "execution_count": null,
   "id": "dd18166d",
   "metadata": {},
   "outputs": [],
   "source": [
    "classificationSummary(y_train, newClassTree.predict(X_train))\n",
    "classificationSummary(y_test, newClassTree.predict(X_test))"
   ]
  },
  {
   "cell_type": "code",
   "execution_count": null,
   "id": "36ef1652",
   "metadata": {},
   "outputs": [],
   "source": [
    "feature_names = list(X.columns)\n",
    "list_int = list(y.unique())\n",
    "class_names = list(map(str, list_int))\n",
    "text_representation = tree.export_text(newClassTree, feature_names = feature_names)\n",
    "print(text_representation)"
   ]
  },
  {
   "cell_type": "code",
   "execution_count": null,
   "id": "5479fb42",
   "metadata": {},
   "outputs": [],
   "source": [
    "fig = plt.figure(figsize=(25,20))\n",
    "tree.plot_tree(newClassTree, feature_names=feature_names, class_names=class_names,\n",
    "              rounded=True, filled=True)\n",
    "%matplotlib inline\n",
    "plt.show()"
   ]
  },
  {
   "cell_type": "code",
   "execution_count": null,
   "id": "542bcd4e",
   "metadata": {
    "scrolled": true
   },
   "outputs": [],
   "source": [
    "# Decision Tree boundary over scatter plot\n",
    "x1 = X_test[\"OpenPrice_log\"]\n",
    "x2 = X_test[\"SellerRating_log\"]\n",
    "\n",
    "x1_range = np.linspace(x1.min(), x1.max(), 100)\n",
    "x2_range = np.linspace(x2.min(), x2.max(), 100)\n",
    "xx, yy = np.meshgrid(x1_range, x2_range)\n",
    "grid_points = np.c_[xx.ravel(), yy.ravel()]\n",
    "Z = newClassTree.predict(grid_points)\n",
    "Z = Z.reshape(xx.shape)\n",
    "\n",
    "plt.figure(figsize=(8,6)) \n",
    "\n",
    "plt.contourf(xx, yy, Z, levels=10, cmap=\"coolwarm\", alpha=0.2)\n",
    "\n",
    "plt.scatter(x1[y_test==0], x2[y_test==0], color='blue', label='Non-Competitive', alpha=0.6)\n",
    "plt.scatter(x1[y_test==1], x2[y_test==1], color='red', label='Competitive', alpha=0.6)\n",
    "\n",
    "plt.xlabel('OpenPrice_log')\n",
    "plt.ylabel('SellerRating_log')\n",
    "plt.title('Auctions by Log SellerRating and Log OpenPrice')\n",
    "plt.legend()\n",
    "plt.show()"
   ]
  },
  {
   "cell_type": "code",
   "execution_count": null,
   "id": "03ffe3ca",
   "metadata": {},
   "outputs": [],
   "source": []
  }
 ],
 "metadata": {
  "kernelspec": {
   "display_name": "Python 3 (ipykernel)",
   "language": "python",
   "name": "python3"
  },
  "language_info": {
   "codemirror_mode": {
    "name": "ipython",
    "version": 3
   },
   "file_extension": ".py",
   "mimetype": "text/x-python",
   "name": "python",
   "nbconvert_exporter": "python",
   "pygments_lexer": "ipython3",
   "version": "3.12.11"
  }
 },
 "nbformat": 4,
 "nbformat_minor": 5
}
